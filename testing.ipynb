{
 "cells": [
  {
   "cell_type": "code",
   "execution_count": 1,
   "metadata": {},
   "outputs": [
    {
     "name": "stdout",
     "output_type": "stream",
     "text": [
      "[1195, 696, 199, 127, 586, 518, 123, 248, 663, 622]\n"
     ]
    }
   ],
   "source": [
    "import random\n",
    "import pandas as pd\n",
    "df=pd.read_csv('df.csv')\n",
    "#print(df.count())\n",
    "# pd.options.display.max_colwidth = -1\n",
    "randomlist = random.sample(range(1, 1258), 10)\n",
    "print(randomlist)\n",
    "\n"
   ]
  },
  {
   "cell_type": "code",
   "execution_count": 13,
   "metadata": {},
   "outputs": [
    {
     "data": {
      "text/plain": [
       "Index(['Unnamed: 0', 'text', 'url', 'title', 'content', 'bias',\n",
       "       'retweet_count', 'favorite_count', 'source_name', 'source',\n",
       "       'clean_content', 'text_lemmatized', 'clean_text_lemmatized', 'tags',\n",
       "       'polarity', 'polarity_score', 'subjectivity', 'subjectivity_score',\n",
       "       'predicted'],\n",
       "      dtype='object')"
      ]
     },
     "execution_count": 13,
     "metadata": {},
     "output_type": "execute_result"
    }
   ],
   "source": [
    "df.columns"
   ]
  },
  {
   "cell_type": "code",
   "execution_count": 19,
   "metadata": {},
   "outputs": [
    {
     "data": {
      "text/html": [
       "<div>\n",
       "<style scoped>\n",
       "    .dataframe tbody tr th:only-of-type {\n",
       "        vertical-align: middle;\n",
       "    }\n",
       "\n",
       "    .dataframe tbody tr th {\n",
       "        vertical-align: top;\n",
       "    }\n",
       "\n",
       "    .dataframe thead th {\n",
       "        text-align: right;\n",
       "    }\n",
       "</style>\n",
       "<table border=\"1\" class=\"dataframe\">\n",
       "  <thead>\n",
       "    <tr style=\"text-align: right;\">\n",
       "      <th></th>\n",
       "      <th>bias</th>\n",
       "      <th>Unnamed: 0</th>\n",
       "    </tr>\n",
       "  </thead>\n",
       "  <tbody>\n",
       "    <tr>\n",
       "      <th>0</th>\n",
       "      <td>0</td>\n",
       "      <td>0</td>\n",
       "    </tr>\n",
       "    <tr>\n",
       "      <th>1</th>\n",
       "      <td>0</td>\n",
       "      <td>1</td>\n",
       "    </tr>\n",
       "    <tr>\n",
       "      <th>2</th>\n",
       "      <td>0</td>\n",
       "      <td>2</td>\n",
       "    </tr>\n",
       "    <tr>\n",
       "      <th>3</th>\n",
       "      <td>0</td>\n",
       "      <td>3</td>\n",
       "    </tr>\n",
       "    <tr>\n",
       "      <th>4</th>\n",
       "      <td>0</td>\n",
       "      <td>4</td>\n",
       "    </tr>\n",
       "    <tr>\n",
       "      <th>...</th>\n",
       "      <td>...</td>\n",
       "      <td>...</td>\n",
       "    </tr>\n",
       "    <tr>\n",
       "      <th>1253</th>\n",
       "      <td>3</td>\n",
       "      <td>1253</td>\n",
       "    </tr>\n",
       "    <tr>\n",
       "      <th>1254</th>\n",
       "      <td>3</td>\n",
       "      <td>1254</td>\n",
       "    </tr>\n",
       "    <tr>\n",
       "      <th>1255</th>\n",
       "      <td>3</td>\n",
       "      <td>1255</td>\n",
       "    </tr>\n",
       "    <tr>\n",
       "      <th>1256</th>\n",
       "      <td>3</td>\n",
       "      <td>1256</td>\n",
       "    </tr>\n",
       "    <tr>\n",
       "      <th>1257</th>\n",
       "      <td>3</td>\n",
       "      <td>1257</td>\n",
       "    </tr>\n",
       "  </tbody>\n",
       "</table>\n",
       "<p>1258 rows × 2 columns</p>\n",
       "</div>"
      ],
      "text/plain": [
       "      bias  Unnamed: 0\n",
       "0     0     0         \n",
       "1     0     1         \n",
       "2     0     2         \n",
       "3     0     3         \n",
       "4     0     4         \n",
       "...  ..    ..         \n",
       "1253  3     1253      \n",
       "1254  3     1254      \n",
       "1255  3     1255      \n",
       "1256  3     1256      \n",
       "1257  3     1257      \n",
       "\n",
       "[1258 rows x 2 columns]"
      ]
     },
     "execution_count": 19,
     "metadata": {},
     "output_type": "execute_result"
    }
   ],
   "source": [
    "df[['bias','Unnamed: 0']]"
   ]
  },
  {
   "cell_type": "code",
   "execution_count": 2,
   "metadata": {},
   "outputs": [
    {
     "data": {
      "text/plain": [
       "3    811\n",
       "0    263\n",
       "1    184\n",
       "Name: bias, dtype: int64"
      ]
     },
     "execution_count": 2,
     "metadata": {},
     "output_type": "execute_result"
    }
   ],
   "source": [
    "df['bias'].value_counts()"
   ]
  },
  {
   "cell_type": "code",
   "execution_count": 5,
   "metadata": {},
   "outputs": [
    {
     "data": {
      "text/plain": [
       "Low subjectivity     1044\n",
       "High subjectivity     214\n",
       "Name: subjectivity_score, dtype: int64"
      ]
     },
     "execution_count": 5,
     "metadata": {},
     "output_type": "execute_result"
    }
   ],
   "source": [
    "df['subjectivity_score'].value_counts()"
   ]
  },
  {
   "cell_type": "code",
   "execution_count": 6,
   "metadata": {},
   "outputs": [
    {
     "data": {
      "text/plain": [
       "Positive    812\n",
       "Negative    424\n",
       "Neutral      22\n",
       "Name: polarity_score, dtype: int64"
      ]
     },
     "execution_count": 6,
     "metadata": {},
     "output_type": "execute_result"
    }
   ],
   "source": [
    "df['polarity_score'].value_counts()\n"
   ]
  },
  {
   "cell_type": "code",
   "execution_count": 4,
   "metadata": {},
   "outputs": [
    {
     "data": {
      "text/plain": [
       "subjectivity  subjectivity_score\n",
       "0.400000      Low subjectivity      10\n",
       "0.000000      Low subjectivity       7\n",
       "0.200000      Low subjectivity       7\n",
       "              Low subjectivity       7\n",
       "0.300000      Low subjectivity       7\n",
       "                                    ..\n",
       "0.352273      Low subjectivity       1\n",
       "0.352500      Low subjectivity       1\n",
       "0.353054      Low subjectivity       1\n",
       "0.353070      Low subjectivity       1\n",
       "0.388889      Low subjectivity       1\n",
       "Length: 1061, dtype: int64"
      ]
     },
     "execution_count": 4,
     "metadata": {},
     "output_type": "execute_result"
    }
   ],
   "source": [
    "df[['subjectivity','subjectivity_score']].value_counts()"
   ]
  },
  {
   "cell_type": "code",
   "execution_count": 7,
   "metadata": {},
   "outputs": [
    {
     "name": "stdout",
     "output_type": "stream",
     "text": [
      "news0=df.loc[randomlist[0]]['content']\n",
      "title0=df.loc[randomlist[0]]['title']\n",
      "subjectivity_score0=df.loc[randomlist[0]]['subjectivity_score']\n",
      "'polarity_score'0=df.loc[randomlist[0]][''polarity_score'']\n",
      "bias0=df.loc[randomlist[0]]['bias']\n",
      "predicted0=df.loc[randomlist[0]]['predicted']\n",
      "\n",
      "news1=df.loc[randomlist[1]]['content']\n",
      "title1=df.loc[randomlist[1]]['title']\n",
      "subjectivity_score1=df.loc[randomlist[1]]['subjectivity_score']\n",
      "'polarity_score'1=df.loc[randomlist[1]][''polarity_score'']\n",
      "bias1=df.loc[randomlist[1]]['bias']\n",
      "predicted1=df.loc[randomlist[1]]['predicted']\n",
      "\n",
      "news2=df.loc[randomlist[2]]['content']\n",
      "title2=df.loc[randomlist[2]]['title']\n",
      "subjectivity_score2=df.loc[randomlist[2]]['subjectivity_score']\n",
      "'polarity_score'2=df.loc[randomlist[2]][''polarity_score'']\n",
      "bias2=df.loc[randomlist[2]]['bias']\n",
      "predicted2=df.loc[randomlist[2]]['predicted']\n",
      "\n",
      "news3=df.loc[randomlist[3]]['content']\n",
      "title3=df.loc[randomlist[3]]['title']\n",
      "subjectivity_score3=df.loc[randomlist[3]]['subjectivity_score']\n",
      "'polarity_score'3=df.loc[randomlist[3]][''polarity_score'']\n",
      "bias3=df.loc[randomlist[3]]['bias']\n",
      "predicted3=df.loc[randomlist[3]]['predicted']\n",
      "\n",
      "news4=df.loc[randomlist[4]]['content']\n",
      "title4=df.loc[randomlist[4]]['title']\n",
      "subjectivity_score4=df.loc[randomlist[4]]['subjectivity_score']\n",
      "'polarity_score'4=df.loc[randomlist[4]][''polarity_score'']\n",
      "bias4=df.loc[randomlist[4]]['bias']\n",
      "predicted4=df.loc[randomlist[4]]['predicted']\n",
      "\n",
      "news5=df.loc[randomlist[5]]['content']\n",
      "title5=df.loc[randomlist[5]]['title']\n",
      "subjectivity_score5=df.loc[randomlist[5]]['subjectivity_score']\n",
      "'polarity_score'5=df.loc[randomlist[5]][''polarity_score'']\n",
      "bias5=df.loc[randomlist[5]]['bias']\n",
      "predicted5=df.loc[randomlist[5]]['predicted']\n",
      "\n",
      "news6=df.loc[randomlist[6]]['content']\n",
      "title6=df.loc[randomlist[6]]['title']\n",
      "subjectivity_score6=df.loc[randomlist[6]]['subjectivity_score']\n",
      "'polarity_score'6=df.loc[randomlist[6]][''polarity_score'']\n",
      "bias6=df.loc[randomlist[6]]['bias']\n",
      "predicted6=df.loc[randomlist[6]]['predicted']\n",
      "\n",
      "news7=df.loc[randomlist[7]]['content']\n",
      "title7=df.loc[randomlist[7]]['title']\n",
      "subjectivity_score7=df.loc[randomlist[7]]['subjectivity_score']\n",
      "'polarity_score'7=df.loc[randomlist[7]][''polarity_score'']\n",
      "bias7=df.loc[randomlist[7]]['bias']\n",
      "predicted7=df.loc[randomlist[7]]['predicted']\n",
      "\n",
      "news8=df.loc[randomlist[8]]['content']\n",
      "title8=df.loc[randomlist[8]]['title']\n",
      "subjectivity_score8=df.loc[randomlist[8]]['subjectivity_score']\n",
      "'polarity_score'8=df.loc[randomlist[8]][''polarity_score'']\n",
      "bias8=df.loc[randomlist[8]]['bias']\n",
      "predicted8=df.loc[randomlist[8]]['predicted']\n",
      "\n",
      "news9=df.loc[randomlist[9]]['content']\n",
      "title9=df.loc[randomlist[9]]['title']\n",
      "subjectivity_score9=df.loc[randomlist[9]]['subjectivity_score']\n",
      "'polarity_score'9=df.loc[randomlist[9]][''polarity_score'']\n",
      "bias9=df.loc[randomlist[9]]['bias']\n",
      "predicted9=df.loc[randomlist[9]]['predicted']\n",
      "\n"
     ]
    }
   ],
   "source": [
    "for i in range(0,10):\n",
    "    print(f\"news{i}=df.loc[randomlist[{i}]]['content']\")\n",
    "    print(f\"title{i}=df.loc[randomlist[{i}]]['title']\")\n",
    "    print(f\"subjectivity_score{i}=df.loc[randomlist[{i}]]['subjectivity_score']\")\n",
    "    print(f\"'polarity_score'{i}=df.loc[randomlist[{i}]][''polarity_score'']\")\n",
    "    print(f\"bias{i}=df.loc[randomlist[{i}]]['bias']\")\n",
    "    print(f\"predicted{i}=df.loc[randomlist[{i}]]['predicted']\\n\")\n",
    "\n",
    "# print(title0,'\\n',news0)\n",
    "# for i in range(0,10):\n",
    "#      print(f\"news{i},title{i},\",end='')"
   ]
  }
 ],
 "metadata": {
  "interpreter": {
   "hash": "be2efa53a2e1ed5a3f80f8c1fe66a88841246b83f67f9428bf6784d2903b05f9"
  },
  "kernelspec": {
   "display_name": "Python 3.9.7 ('base')",
   "language": "python",
   "name": "python3"
  },
  "language_info": {
   "codemirror_mode": {
    "name": "ipython",
    "version": 3
   },
   "file_extension": ".py",
   "mimetype": "text/x-python",
   "name": "python",
   "nbconvert_exporter": "python",
   "pygments_lexer": "ipython3",
   "version": "3.9.7"
  },
  "orig_nbformat": 4
 },
 "nbformat": 4,
 "nbformat_minor": 2
}
